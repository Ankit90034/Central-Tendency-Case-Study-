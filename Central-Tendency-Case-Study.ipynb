{
  "cells": [
    {
      "cell_type": "markdown",
      "source": [
        "# **Introduction**\n",
        "In this case study project, we will perform the following tasks:\n",
        "\n",
        "1 - Load and study the data\n",
        "\n",
        "2 - View the distributions of the various features in the data set and calculate their central tendencies\n",
        "\n",
        "3 - Create a new Pandas Series that contains the details of the representative factor for quality"
      ],
      "metadata": {
        "id": "18idk-8Z0_pU"
      },
      "id": "18idk-8Z0_pU"
    },
    {
      "cell_type": "markdown",
      "source": [
        "# **Task 1** - Load and study the data\n",
        "\n",
        "Load the data and study its features such as:\n",
        "\n",
        "* fixed acidity\n",
        "\n",
        "* volatile acidity\n",
        "\n",
        "* citric acid etc."
      ],
      "metadata": {
        "id": "gmr6FhI31OJX"
      },
      "id": "gmr6FhI31OJX"
    },
    {
      "cell_type": "code",
      "execution_count": 1,
      "metadata": {
        "id": "unpiYVYP8QlP"
      },
      "outputs": [],
      "source": [
        "# Load the required libraries\n",
        "import pandas as pd\n",
        "import numpy as np\n",
        "import matplotlib.pyplot as plt\n",
        "import seaborn as sns\n",
        "import warnings\n",
        "warnings.filterwarnings('ignore')"
      ],
      "id": "unpiYVYP8QlP"
    },
    {
      "cell_type": "code",
      "execution_count": 3,
      "metadata": {
        "id": "PPXsV90-8QlQ"
      },
      "outputs": [],
      "source": [
        "# Read in the \"Wine Quality.csv\" file as a Pandas DataFrame\n",
        "\n",
        "data = pd.read_csv('Wine Quality Dataset.csv')\n"
      ],
      "id": "PPXsV90-8QlQ"
    },
    {
      "cell_type": "code",
      "execution_count": 4,
      "metadata": {
        "id": "N2zAtETU8QlQ",
        "colab": {
          "base_uri": "https://localhost:8080/",
          "height": 206
        },
        "outputId": "bc8ed52f-a102-4c66-b8cd-b744cbd6d9b6"
      },
      "outputs": [
        {
          "output_type": "execute_result",
          "data": {
            "text/plain": [
              "   fixed acidity  volatile acidity  citric acid  residual sugar  chlorides  \\\n",
              "0            7.0              0.27         0.36            20.7      0.045   \n",
              "1            6.3              0.30         0.34             1.6      0.049   \n",
              "2            8.1              0.28         0.40             6.9      0.050   \n",
              "3            7.2              0.23         0.32             8.5      0.058   \n",
              "4            7.2              0.23         0.32             8.5      0.058   \n",
              "\n",
              "   free sulfur dioxide  total sulfur dioxide  density    pH  sulphates  \\\n",
              "0                 45.0                 170.0   1.0010  3.00       0.45   \n",
              "1                 14.0                 132.0   0.9940  3.30       0.49   \n",
              "2                 30.0                  97.0   0.9951  3.26       0.44   \n",
              "3                 47.0                 186.0   0.9956  3.19       0.40   \n",
              "4                 47.0                 186.0   0.9956  3.19       0.40   \n",
              "\n",
              "   alcohol  quality  \n",
              "0      8.8        6  \n",
              "1      9.5        6  \n",
              "2     10.1        6  \n",
              "3      9.9        6  \n",
              "4      9.9        6  "
            ],
            "text/html": [
              "\n",
              "  <div id=\"df-ef578c1b-6f54-4893-8840-e71fbda1a993\" class=\"colab-df-container\">\n",
              "    <div>\n",
              "<style scoped>\n",
              "    .dataframe tbody tr th:only-of-type {\n",
              "        vertical-align: middle;\n",
              "    }\n",
              "\n",
              "    .dataframe tbody tr th {\n",
              "        vertical-align: top;\n",
              "    }\n",
              "\n",
              "    .dataframe thead th {\n",
              "        text-align: right;\n",
              "    }\n",
              "</style>\n",
              "<table border=\"1\" class=\"dataframe\">\n",
              "  <thead>\n",
              "    <tr style=\"text-align: right;\">\n",
              "      <th></th>\n",
              "      <th>fixed acidity</th>\n",
              "      <th>volatile acidity</th>\n",
              "      <th>citric acid</th>\n",
              "      <th>residual sugar</th>\n",
              "      <th>chlorides</th>\n",
              "      <th>free sulfur dioxide</th>\n",
              "      <th>total sulfur dioxide</th>\n",
              "      <th>density</th>\n",
              "      <th>pH</th>\n",
              "      <th>sulphates</th>\n",
              "      <th>alcohol</th>\n",
              "      <th>quality</th>\n",
              "    </tr>\n",
              "  </thead>\n",
              "  <tbody>\n",
              "    <tr>\n",
              "      <th>0</th>\n",
              "      <td>7.0</td>\n",
              "      <td>0.27</td>\n",
              "      <td>0.36</td>\n",
              "      <td>20.7</td>\n",
              "      <td>0.045</td>\n",
              "      <td>45.0</td>\n",
              "      <td>170.0</td>\n",
              "      <td>1.0010</td>\n",
              "      <td>3.00</td>\n",
              "      <td>0.45</td>\n",
              "      <td>8.8</td>\n",
              "      <td>6</td>\n",
              "    </tr>\n",
              "    <tr>\n",
              "      <th>1</th>\n",
              "      <td>6.3</td>\n",
              "      <td>0.30</td>\n",
              "      <td>0.34</td>\n",
              "      <td>1.6</td>\n",
              "      <td>0.049</td>\n",
              "      <td>14.0</td>\n",
              "      <td>132.0</td>\n",
              "      <td>0.9940</td>\n",
              "      <td>3.30</td>\n",
              "      <td>0.49</td>\n",
              "      <td>9.5</td>\n",
              "      <td>6</td>\n",
              "    </tr>\n",
              "    <tr>\n",
              "      <th>2</th>\n",
              "      <td>8.1</td>\n",
              "      <td>0.28</td>\n",
              "      <td>0.40</td>\n",
              "      <td>6.9</td>\n",
              "      <td>0.050</td>\n",
              "      <td>30.0</td>\n",
              "      <td>97.0</td>\n",
              "      <td>0.9951</td>\n",
              "      <td>3.26</td>\n",
              "      <td>0.44</td>\n",
              "      <td>10.1</td>\n",
              "      <td>6</td>\n",
              "    </tr>\n",
              "    <tr>\n",
              "      <th>3</th>\n",
              "      <td>7.2</td>\n",
              "      <td>0.23</td>\n",
              "      <td>0.32</td>\n",
              "      <td>8.5</td>\n",
              "      <td>0.058</td>\n",
              "      <td>47.0</td>\n",
              "      <td>186.0</td>\n",
              "      <td>0.9956</td>\n",
              "      <td>3.19</td>\n",
              "      <td>0.40</td>\n",
              "      <td>9.9</td>\n",
              "      <td>6</td>\n",
              "    </tr>\n",
              "    <tr>\n",
              "      <th>4</th>\n",
              "      <td>7.2</td>\n",
              "      <td>0.23</td>\n",
              "      <td>0.32</td>\n",
              "      <td>8.5</td>\n",
              "      <td>0.058</td>\n",
              "      <td>47.0</td>\n",
              "      <td>186.0</td>\n",
              "      <td>0.9956</td>\n",
              "      <td>3.19</td>\n",
              "      <td>0.40</td>\n",
              "      <td>9.9</td>\n",
              "      <td>6</td>\n",
              "    </tr>\n",
              "  </tbody>\n",
              "</table>\n",
              "</div>\n",
              "    <div class=\"colab-df-buttons\">\n",
              "\n",
              "  <div class=\"colab-df-container\">\n",
              "    <button class=\"colab-df-convert\" onclick=\"convertToInteractive('df-ef578c1b-6f54-4893-8840-e71fbda1a993')\"\n",
              "            title=\"Convert this dataframe to an interactive table.\"\n",
              "            style=\"display:none;\">\n",
              "\n",
              "  <svg xmlns=\"http://www.w3.org/2000/svg\" height=\"24px\" viewBox=\"0 -960 960 960\">\n",
              "    <path d=\"M120-120v-720h720v720H120Zm60-500h600v-160H180v160Zm220 220h160v-160H400v160Zm0 220h160v-160H400v160ZM180-400h160v-160H180v160Zm440 0h160v-160H620v160ZM180-180h160v-160H180v160Zm440 0h160v-160H620v160Z\"/>\n",
              "  </svg>\n",
              "    </button>\n",
              "\n",
              "  <style>\n",
              "    .colab-df-container {\n",
              "      display:flex;\n",
              "      gap: 12px;\n",
              "    }\n",
              "\n",
              "    .colab-df-convert {\n",
              "      background-color: #E8F0FE;\n",
              "      border: none;\n",
              "      border-radius: 50%;\n",
              "      cursor: pointer;\n",
              "      display: none;\n",
              "      fill: #1967D2;\n",
              "      height: 32px;\n",
              "      padding: 0 0 0 0;\n",
              "      width: 32px;\n",
              "    }\n",
              "\n",
              "    .colab-df-convert:hover {\n",
              "      background-color: #E2EBFA;\n",
              "      box-shadow: 0px 1px 2px rgba(60, 64, 67, 0.3), 0px 1px 3px 1px rgba(60, 64, 67, 0.15);\n",
              "      fill: #174EA6;\n",
              "    }\n",
              "\n",
              "    .colab-df-buttons div {\n",
              "      margin-bottom: 4px;\n",
              "    }\n",
              "\n",
              "    [theme=dark] .colab-df-convert {\n",
              "      background-color: #3B4455;\n",
              "      fill: #D2E3FC;\n",
              "    }\n",
              "\n",
              "    [theme=dark] .colab-df-convert:hover {\n",
              "      background-color: #434B5C;\n",
              "      box-shadow: 0px 1px 3px 1px rgba(0, 0, 0, 0.15);\n",
              "      filter: drop-shadow(0px 1px 2px rgba(0, 0, 0, 0.3));\n",
              "      fill: #FFFFFF;\n",
              "    }\n",
              "  </style>\n",
              "\n",
              "    <script>\n",
              "      const buttonEl =\n",
              "        document.querySelector('#df-ef578c1b-6f54-4893-8840-e71fbda1a993 button.colab-df-convert');\n",
              "      buttonEl.style.display =\n",
              "        google.colab.kernel.accessAllowed ? 'block' : 'none';\n",
              "\n",
              "      async function convertToInteractive(key) {\n",
              "        const element = document.querySelector('#df-ef578c1b-6f54-4893-8840-e71fbda1a993');\n",
              "        const dataTable =\n",
              "          await google.colab.kernel.invokeFunction('convertToInteractive',\n",
              "                                                    [key], {});\n",
              "        if (!dataTable) return;\n",
              "\n",
              "        const docLinkHtml = 'Like what you see? Visit the ' +\n",
              "          '<a target=\"_blank\" href=https://colab.research.google.com/notebooks/data_table.ipynb>data table notebook</a>'\n",
              "          + ' to learn more about interactive tables.';\n",
              "        element.innerHTML = '';\n",
              "        dataTable['output_type'] = 'display_data';\n",
              "        await google.colab.output.renderOutput(dataTable, element);\n",
              "        const docLink = document.createElement('div');\n",
              "        docLink.innerHTML = docLinkHtml;\n",
              "        element.appendChild(docLink);\n",
              "      }\n",
              "    </script>\n",
              "  </div>\n",
              "\n",
              "\n",
              "    <div id=\"df-fb160b5b-9135-4f92-ae2c-cfde9922029a\">\n",
              "      <button class=\"colab-df-quickchart\" onclick=\"quickchart('df-fb160b5b-9135-4f92-ae2c-cfde9922029a')\"\n",
              "                title=\"Suggest charts\"\n",
              "                style=\"display:none;\">\n",
              "\n",
              "<svg xmlns=\"http://www.w3.org/2000/svg\" height=\"24px\"viewBox=\"0 0 24 24\"\n",
              "     width=\"24px\">\n",
              "    <g>\n",
              "        <path d=\"M19 3H5c-1.1 0-2 .9-2 2v14c0 1.1.9 2 2 2h14c1.1 0 2-.9 2-2V5c0-1.1-.9-2-2-2zM9 17H7v-7h2v7zm4 0h-2V7h2v10zm4 0h-2v-4h2v4z\"/>\n",
              "    </g>\n",
              "</svg>\n",
              "      </button>\n",
              "\n",
              "<style>\n",
              "  .colab-df-quickchart {\n",
              "      --bg-color: #E8F0FE;\n",
              "      --fill-color: #1967D2;\n",
              "      --hover-bg-color: #E2EBFA;\n",
              "      --hover-fill-color: #174EA6;\n",
              "      --disabled-fill-color: #AAA;\n",
              "      --disabled-bg-color: #DDD;\n",
              "  }\n",
              "\n",
              "  [theme=dark] .colab-df-quickchart {\n",
              "      --bg-color: #3B4455;\n",
              "      --fill-color: #D2E3FC;\n",
              "      --hover-bg-color: #434B5C;\n",
              "      --hover-fill-color: #FFFFFF;\n",
              "      --disabled-bg-color: #3B4455;\n",
              "      --disabled-fill-color: #666;\n",
              "  }\n",
              "\n",
              "  .colab-df-quickchart {\n",
              "    background-color: var(--bg-color);\n",
              "    border: none;\n",
              "    border-radius: 50%;\n",
              "    cursor: pointer;\n",
              "    display: none;\n",
              "    fill: var(--fill-color);\n",
              "    height: 32px;\n",
              "    padding: 0;\n",
              "    width: 32px;\n",
              "  }\n",
              "\n",
              "  .colab-df-quickchart:hover {\n",
              "    background-color: var(--hover-bg-color);\n",
              "    box-shadow: 0 1px 2px rgba(60, 64, 67, 0.3), 0 1px 3px 1px rgba(60, 64, 67, 0.15);\n",
              "    fill: var(--button-hover-fill-color);\n",
              "  }\n",
              "\n",
              "  .colab-df-quickchart-complete:disabled,\n",
              "  .colab-df-quickchart-complete:disabled:hover {\n",
              "    background-color: var(--disabled-bg-color);\n",
              "    fill: var(--disabled-fill-color);\n",
              "    box-shadow: none;\n",
              "  }\n",
              "\n",
              "  .colab-df-spinner {\n",
              "    border: 2px solid var(--fill-color);\n",
              "    border-color: transparent;\n",
              "    border-bottom-color: var(--fill-color);\n",
              "    animation:\n",
              "      spin 1s steps(1) infinite;\n",
              "  }\n",
              "\n",
              "  @keyframes spin {\n",
              "    0% {\n",
              "      border-color: transparent;\n",
              "      border-bottom-color: var(--fill-color);\n",
              "      border-left-color: var(--fill-color);\n",
              "    }\n",
              "    20% {\n",
              "      border-color: transparent;\n",
              "      border-left-color: var(--fill-color);\n",
              "      border-top-color: var(--fill-color);\n",
              "    }\n",
              "    30% {\n",
              "      border-color: transparent;\n",
              "      border-left-color: var(--fill-color);\n",
              "      border-top-color: var(--fill-color);\n",
              "      border-right-color: var(--fill-color);\n",
              "    }\n",
              "    40% {\n",
              "      border-color: transparent;\n",
              "      border-right-color: var(--fill-color);\n",
              "      border-top-color: var(--fill-color);\n",
              "    }\n",
              "    60% {\n",
              "      border-color: transparent;\n",
              "      border-right-color: var(--fill-color);\n",
              "    }\n",
              "    80% {\n",
              "      border-color: transparent;\n",
              "      border-right-color: var(--fill-color);\n",
              "      border-bottom-color: var(--fill-color);\n",
              "    }\n",
              "    90% {\n",
              "      border-color: transparent;\n",
              "      border-bottom-color: var(--fill-color);\n",
              "    }\n",
              "  }\n",
              "</style>\n",
              "\n",
              "      <script>\n",
              "        async function quickchart(key) {\n",
              "          const quickchartButtonEl =\n",
              "            document.querySelector('#' + key + ' button');\n",
              "          quickchartButtonEl.disabled = true;  // To prevent multiple clicks.\n",
              "          quickchartButtonEl.classList.add('colab-df-spinner');\n",
              "          try {\n",
              "            const charts = await google.colab.kernel.invokeFunction(\n",
              "                'suggestCharts', [key], {});\n",
              "          } catch (error) {\n",
              "            console.error('Error during call to suggestCharts:', error);\n",
              "          }\n",
              "          quickchartButtonEl.classList.remove('colab-df-spinner');\n",
              "          quickchartButtonEl.classList.add('colab-df-quickchart-complete');\n",
              "        }\n",
              "        (() => {\n",
              "          let quickchartButtonEl =\n",
              "            document.querySelector('#df-fb160b5b-9135-4f92-ae2c-cfde9922029a button');\n",
              "          quickchartButtonEl.style.display =\n",
              "            google.colab.kernel.accessAllowed ? 'block' : 'none';\n",
              "        })();\n",
              "      </script>\n",
              "    </div>\n",
              "\n",
              "    </div>\n",
              "  </div>\n"
            ],
            "application/vnd.google.colaboratory.intrinsic+json": {
              "type": "dataframe",
              "variable_name": "data",
              "summary": "{\n  \"name\": \"data\",\n  \"rows\": 4898,\n  \"fields\": [\n    {\n      \"column\": \"fixed acidity\",\n      \"properties\": {\n        \"dtype\": \"number\",\n        \"std\": 0.8438682276875188,\n        \"min\": 3.8,\n        \"max\": 14.2,\n        \"num_unique_values\": 68,\n        \"samples\": [\n          10.3,\n          5.8,\n          6.2\n        ],\n        \"semantic_type\": \"\",\n        \"description\": \"\"\n      }\n    },\n    {\n      \"column\": \"volatile acidity\",\n      \"properties\": {\n        \"dtype\": \"number\",\n        \"std\": 0.10079454842486428,\n        \"min\": 0.08,\n        \"max\": 1.1,\n        \"num_unique_values\": 125,\n        \"samples\": [\n          0.14,\n          0.595,\n          0.13\n        ],\n        \"semantic_type\": \"\",\n        \"description\": \"\"\n      }\n    },\n    {\n      \"column\": \"citric acid\",\n      \"properties\": {\n        \"dtype\": \"number\",\n        \"std\": 0.12101980420298301,\n        \"min\": 0.0,\n        \"max\": 1.66,\n        \"num_unique_values\": 87,\n        \"samples\": [\n          0.64,\n          0.36,\n          0.24\n        ],\n        \"semantic_type\": \"\",\n        \"description\": \"\"\n      }\n    },\n    {\n      \"column\": \"residual sugar\",\n      \"properties\": {\n        \"dtype\": \"number\",\n        \"std\": 5.072057784014864,\n        \"min\": 0.6,\n        \"max\": 65.8,\n        \"num_unique_values\": 310,\n        \"samples\": [\n          15.5,\n          19.25,\n          3.3\n        ],\n        \"semantic_type\": \"\",\n        \"description\": \"\"\n      }\n    },\n    {\n      \"column\": \"chlorides\",\n      \"properties\": {\n        \"dtype\": \"number\",\n        \"std\": 0.02184796809372882,\n        \"min\": 0.009,\n        \"max\": 0.346,\n        \"num_unique_values\": 160,\n        \"samples\": [\n          0.167,\n          0.133,\n          0.015\n        ],\n        \"semantic_type\": \"\",\n        \"description\": \"\"\n      }\n    },\n    {\n      \"column\": \"free sulfur dioxide\",\n      \"properties\": {\n        \"dtype\": \"number\",\n        \"std\": 17.007137325232566,\n        \"min\": 2.0,\n        \"max\": 289.0,\n        \"num_unique_values\": 132,\n        \"samples\": [\n          24.0,\n          122.5,\n          7.0\n        ],\n        \"semantic_type\": \"\",\n        \"description\": \"\"\n      }\n    },\n    {\n      \"column\": \"total sulfur dioxide\",\n      \"properties\": {\n        \"dtype\": \"number\",\n        \"std\": 42.49806455414294,\n        \"min\": 9.0,\n        \"max\": 440.0,\n        \"num_unique_values\": 251,\n        \"samples\": [\n          260.0,\n          63.0,\n          70.0\n        ],\n        \"semantic_type\": \"\",\n        \"description\": \"\"\n      }\n    },\n    {\n      \"column\": \"density\",\n      \"properties\": {\n        \"dtype\": \"number\",\n        \"std\": 0.0029909069169369354,\n        \"min\": 0.98711,\n        \"max\": 1.03898,\n        \"num_unique_values\": 890,\n        \"samples\": [\n          0.99362,\n          0.99388,\n          0.9929\n        ],\n        \"semantic_type\": \"\",\n        \"description\": \"\"\n      }\n    },\n    {\n      \"column\": \"pH\",\n      \"properties\": {\n        \"dtype\": \"number\",\n        \"std\": 0.1510005996150667,\n        \"min\": 2.72,\n        \"max\": 3.82,\n        \"num_unique_values\": 103,\n        \"samples\": [\n          3.34,\n          3.41,\n          3.49\n        ],\n        \"semantic_type\": \"\",\n        \"description\": \"\"\n      }\n    },\n    {\n      \"column\": \"sulphates\",\n      \"properties\": {\n        \"dtype\": \"number\",\n        \"std\": 0.11412583394883138,\n        \"min\": 0.22,\n        \"max\": 1.08,\n        \"num_unique_values\": 79,\n        \"samples\": [\n          0.41,\n          0.45,\n          0.46\n        ],\n        \"semantic_type\": \"\",\n        \"description\": \"\"\n      }\n    },\n    {\n      \"column\": \"alcohol\",\n      \"properties\": {\n        \"dtype\": \"number\",\n        \"std\": 1.2306205677522648,\n        \"min\": 8.0,\n        \"max\": 14.2,\n        \"num_unique_values\": 103,\n        \"samples\": [\n          12.6,\n          11.36666667,\n          10.03333333\n        ],\n        \"semantic_type\": \"\",\n        \"description\": \"\"\n      }\n    },\n    {\n      \"column\": \"quality\",\n      \"properties\": {\n        \"dtype\": \"number\",\n        \"std\": 0,\n        \"min\": 3,\n        \"max\": 9,\n        \"num_unique_values\": 7,\n        \"samples\": [\n          6,\n          5,\n          3\n        ],\n        \"semantic_type\": \"\",\n        \"description\": \"\"\n      }\n    }\n  ]\n}"
            }
          },
          "metadata": {},
          "execution_count": 4
        }
      ],
      "source": [
        "# Take a brief look at the data\n",
        "data.head()\n"
      ],
      "id": "N2zAtETU8QlQ"
    },
    {
      "cell_type": "code",
      "execution_count": 5,
      "metadata": {
        "id": "HMqjqCoB8QlS",
        "colab": {
          "base_uri": "https://localhost:8080/"
        },
        "outputId": "ac4492c9-ed46-427e-fe2f-4365bb34b75a"
      },
      "outputs": [
        {
          "output_type": "execute_result",
          "data": {
            "text/plain": [
              "(4898, 12)"
            ]
          },
          "metadata": {},
          "execution_count": 5
        }
      ],
      "source": [
        "# Get the dimensions of the dataframe\n",
        "data.shape"
      ],
      "id": "HMqjqCoB8QlS"
    },
    {
      "cell_type": "code",
      "execution_count": 6,
      "metadata": {
        "id": "1QBUAFUX8QlT",
        "colab": {
          "base_uri": "https://localhost:8080/"
        },
        "outputId": "8cc78fd8-70a4-4a22-cfac-d969be5dec03"
      },
      "outputs": [
        {
          "output_type": "execute_result",
          "data": {
            "text/plain": [
              "RangeIndex(start=0, stop=4898, step=1)"
            ]
          },
          "metadata": {},
          "execution_count": 6
        }
      ],
      "source": [
        "# Get the row names of the dataframe\n",
        "data.index\n"
      ],
      "id": "1QBUAFUX8QlT"
    },
    {
      "cell_type": "code",
      "execution_count": 7,
      "metadata": {
        "id": "j3MqWiD_8QlT",
        "colab": {
          "base_uri": "https://localhost:8080/"
        },
        "outputId": "4d5fbe92-0b35-4b5d-9e3a-e65b6c135f28"
      },
      "outputs": [
        {
          "output_type": "execute_result",
          "data": {
            "text/plain": [
              "Index(['fixed acidity', 'volatile acidity', 'citric acid', 'residual sugar',\n",
              "       'chlorides', 'free sulfur dioxide', 'total sulfur dioxide', 'density',\n",
              "       'pH', 'sulphates', 'alcohol', 'quality'],\n",
              "      dtype='object')"
            ]
          },
          "metadata": {},
          "execution_count": 7
        }
      ],
      "source": [
        "# Get the column names of the dataframe\n",
        "data.columns"
      ],
      "id": "j3MqWiD_8QlT"
    },
    {
      "cell_type": "code",
      "execution_count": 8,
      "metadata": {
        "id": "Odp5luIz8QlU",
        "colab": {
          "base_uri": "https://localhost:8080/"
        },
        "outputId": "d03b7dd8-be5b-407a-f8d2-765a32035e31"
      },
      "outputs": [
        {
          "output_type": "stream",
          "name": "stdout",
          "text": [
            "<class 'pandas.core.frame.DataFrame'>\n",
            "RangeIndex: 4898 entries, 0 to 4897\n",
            "Data columns (total 12 columns):\n",
            " #   Column                Non-Null Count  Dtype  \n",
            "---  ------                --------------  -----  \n",
            " 0   fixed acidity         4898 non-null   float64\n",
            " 1   volatile acidity      4898 non-null   float64\n",
            " 2   citric acid           4898 non-null   float64\n",
            " 3   residual sugar        4898 non-null   float64\n",
            " 4   chlorides             4898 non-null   float64\n",
            " 5   free sulfur dioxide   4898 non-null   float64\n",
            " 6   total sulfur dioxide  4898 non-null   float64\n",
            " 7   density               4898 non-null   float64\n",
            " 8   pH                    4898 non-null   float64\n",
            " 9   sulphates             4898 non-null   float64\n",
            " 10  alcohol               4898 non-null   float64\n",
            " 11  quality               4898 non-null   int64  \n",
            "dtypes: float64(11), int64(1)\n",
            "memory usage: 459.3 KB\n"
          ]
        }
      ],
      "source": [
        "# Look at basic information about the dataframe\n",
        "data.info()"
      ],
      "id": "Odp5luIz8QlU"
    },
    {
      "cell_type": "markdown",
      "source": [
        "# **Observations from Task 1**\n",
        "\n",
        "There are 4898 rows and 12 columns in the data.Each row contains the details of the types of acids present in white-wine and the quality\n",
        "\n",
        "The features in the data set are:\n",
        "\n",
        "* Different acids and their Quality"
      ],
      "metadata": {
        "id": "Ld2gmOle185d"
      },
      "id": "Ld2gmOle185d"
    },
    {
      "cell_type": "markdown",
      "source": [
        "# **Task 2** - View the distributions of the various features in the data set and calculate their central tendencies\n",
        "\n",
        "We will now look at the distributions of the various features in the data set\n",
        "\n",
        "We will also calculate appropriate measures of central tendency for these features"
      ],
      "metadata": {
        "id": "-x1OYF4j2K4T"
      },
      "id": "-x1OYF4j2K4T"
    },
    {
      "cell_type": "code",
      "execution_count": 9,
      "metadata": {
        "id": "JT7v9ldI8QlV",
        "colab": {
          "base_uri": "https://localhost:8080/",
          "height": 410
        },
        "outputId": "d2375ada-05da-4344-95a9-2b39e63a5e1d"
      },
      "outputs": [
        {
          "output_type": "display_data",
          "data": {
            "text/plain": [
              "<Figure size 900x400 with 1 Axes>"
            ],
            "image/png": "[encoded data removed]"
          },
          "metadata": {}
        }
      ],
      "source": [
        "# Create a histogram of the \"Fixed acidity\" feature\n",
        "\n",
        "plt.figure(figsize = (9,4))\n",
        "\n",
        "sns.histplot(data = data ,x = 'fixed acidity', color = 'orange',\n",
        "             edgecolor = 'linen', alpha = 0.7, bins = 5)\n",
        "\n",
        "plt.title(\"Histogram of Fixed Acidity\")\n",
        "plt.xlabel('Fixed Acidity')\n",
        "plt.ylabel('Count')\n",
        "plt.show()"
      ],
      "id": "JT7v9ldI8QlV"
    },
    {
      "cell_type": "markdown",
      "source": [
        "**Observations**\n",
        "\n",
        "We observe that the histogram is normally distributed.\n",
        "\n",
        "The maximum count of values for fixed acidity lies in between 6 to 8."
      ],
      "metadata": {
        "id": "RTchMc3jqMdC"
      },
      "id": "RTchMc3jqMdC"
    },
    {
      "cell_type": "markdown",
      "source": [
        "Let's see the measures of central tendency in working!\n",
        "\n",
        "1. Mean\n",
        "2. Median\n",
        "3. Mode"
      ],
      "metadata": {
        "id": "FGbdDX72cRNN"
      },
      "id": "FGbdDX72cRNN"
    },
    {
      "cell_type": "markdown",
      "source": [
        "![](https://math.pppst.com/mean_median.gif)"
      ],
      "metadata": {
        "id": "mdCtJKhmakZ-"
      },
      "id": "mdCtJKhmakZ-"
    },
    {
      "cell_type": "code",
      "execution_count": 10,
      "metadata": {
        "id": "ycAM7RKn8QlV",
        "colab": {
          "base_uri": "https://localhost:8080/"
        },
        "outputId": "1ab61ac3-e80f-43ce-dd4e-b1ae20b5c025"
      },
      "outputs": [
        {
          "output_type": "execute_result",
          "data": {
            "text/plain": [
              "np.float64(6.85)"
            ]
          },
          "metadata": {},
          "execution_count": 10
        }
      ],
      "source": [
        "# Calculate the mean of \"fixed acidity\" feature\n",
        "\n",
        "round(data['fixed acidity'].mean(),2)"
      ],
      "id": "ycAM7RKn8QlV"
    },
    {
      "cell_type": "code",
      "execution_count": 11,
      "metadata": {
        "id": "X0key32L8QlV",
        "colab": {
          "base_uri": "https://localhost:8080/"
        },
        "outputId": "3ecf5a98-713c-4079-e06c-6fed26f98b1f"
      },
      "outputs": [
        {
          "output_type": "execute_result",
          "data": {
            "text/plain": [
              "6.8"
            ]
          },
          "metadata": {},
          "execution_count": 11
        }
      ],
      "source": [
        "# Calculate the median of \"fixed acidity\" feature\n",
        "\n",
        "data['fixed acidity'].median()\n"
      ],
      "id": "X0key32L8QlV"
    },
    {
      "cell_type": "code",
      "execution_count": 12,
      "metadata": {
        "id": "n_rdlvky8QlW",
        "colab": {
          "base_uri": "https://localhost:8080/",
          "height": 410
        },
        "outputId": "fe2e02b6-ec3e-4ed9-f11a-3a8132c4041c"
      },
      "outputs": [
        {
          "output_type": "display_data",
          "data": {
            "text/plain": [
              "<Figure size 900x400 with 1 Axes>"
            ],
            "image/png": "[encoded data removed]"
          },
          "metadata": {}
        }
      ],
      "source": [
        "# Create a histogram of the \"fixed acidity\" feature and also show the mean and the median\n",
        "\n",
        "plt.figure(figsize = (9,4))\n",
        "\n",
        "sns.histplot(data = data ,x = 'fixed acidity', color = 'orange',\n",
        "             edgecolor = 'linen', alpha = 0.5, bins = 5)\n",
        "\n",
        "plt.title(\"Histogram of Fixed Acidity\")\n",
        "plt.xlabel('Fixed Acidity')\n",
        "plt.ylabel('Count')\n",
        "plt.vlines(data['fixed acidity'].mean(), ymin = 0, ymax = 4000, colors='blue', label='Mean')\n",
        "plt.vlines(data['fixed acidity'].median(), ymin = 0, ymax = 4000, colors='red', label='Median')\n",
        "plt.legend()\n",
        "plt.show()\n"
      ],
      "id": "n_rdlvky8QlW"
    },
    {
      "cell_type": "markdown",
      "source": [
        "**Observations**\n",
        "\n",
        "We can see that mean and median are clear representative of the data.\n",
        "\n",
        "Mean and median are very close to each other.\n",
        "\n",
        "We can choose either of the parameters say mean as the measure of central tendency."
      ],
      "metadata": {
        "id": "c9fHJxHcqaoG"
      },
      "id": "c9fHJxHcqaoG"
    },
    {
      "cell_type": "code",
      "execution_count": 13,
      "metadata": {
        "id": "FL7paEab8QlW",
        "colab": {
          "base_uri": "https://localhost:8080/",
          "height": 410
        },
        "outputId": "cf5502b8-faf1-4a8f-d02e-87e19cae9cfa"
      },
      "outputs": [
        {
          "output_type": "display_data",
          "data": {
            "text/plain": [
              "<Figure size 900x400 with 1 Axes>"
            ],
            "image/png": "[encoded data removed]"
          },
          "metadata": {}
        }
      ],
      "source": [
        "# Create a histogram of the \"volatile acidity\" feature\n",
        "\n",
        "plt.figure(figsize = (9,4))\n",
        "\n",
        "sns.histplot(data = data ,x = 'volatile acidity', color = 'green',\n",
        "             edgecolor = 'linen', alpha = 0.7, bins = 5)\n",
        "\n",
        "plt.title(\"Histogram of Volatile Acidity\")\n",
        "plt.xlabel('Volatile Acidity')\n",
        "plt.ylabel('Count')\n",
        "plt.show()\n"
      ],
      "id": "FL7paEab8QlW"
    },
    {
      "cell_type": "markdown",
      "source": [
        "**Observations**\n",
        "\n",
        "We observe that this histogram is not well distributed, it is **skewed** a little towards the right.\n",
        "\n",
        "As we have seen skewness, therefore we can check the distribution using distplot function."
      ],
      "metadata": {
        "id": "U7kDQtUDqkCX"
      },
      "id": "U7kDQtUDqkCX"
    },
    {
      "cell_type": "markdown",
      "source": [
        "**Skewness:** Some distributions of data, such as the bell curve or normal distribution, are symmetric. This means that the right and the left of the distribution are perfect mirror images of one another. Not every distribution of data is symmetric. Sets of data that are not symmetric are said to be asymmetric. The measure of how asymmetric a distribution can be is called skewness.\n",
        "\n",
        "\n",
        "The mean, median and mode are all measures of the center of a set of data. The skewness of the data can be determined by how these quantities are related to one another.\n",
        "\n",
        "* If Skewness (S) = 0, then the distribution is normally distributed.\n",
        "\n",
        "* If Skewness (S) > 0, then the distribution is positively skewed.\n",
        "\n",
        "* If Skewness (S) < 0, then the distribution is negatively skewed.\n"
      ],
      "metadata": {
        "id": "6XF0GpVCX5zP"
      },
      "id": "6XF0GpVCX5zP"
    },
    {
      "cell_type": "code",
      "source": [
        "# Plot distplot using 'Volatile acidity' feature\n",
        "\n",
        "plt.figure(figsize = (9,4))\n",
        "\n",
        "sns.distplot(data['volatile acidity'], color = 'blue')\n",
        "\n",
        "plt.title(\"Distplot of Volatile Acidity\")\n",
        "plt.xlabel('Volatile Acidity')\n",
        "plt.ylabel('Density')\n",
        "plt.show()"
      ],
      "metadata": {
        "id": "_2l-9VPMYF5-",
        "colab": {
          "base_uri": "https://localhost:8080/",
          "height": 410
        },
        "outputId": "b938bcb7-2539-42f2-8502-e639e43ce492"
      },
      "id": "_2l-9VPMYF5-",
      "execution_count": 14,
      "outputs": [
        {
          "output_type": "display_data",
          "data": {
            "text/plain": [
              "<Figure size 900x400 with 1 Axes>"
            ],
            "image/png": "[encoded data removed]"
          },
          "metadata": {}
        }
      ]
    },
    {
      "cell_type": "markdown",
      "source": [
        "Observation:\n",
        "\n",
        "The above plot shows the normal distribution."
      ],
      "metadata": {
        "id": "Qrd1aX5FeRkN"
      },
      "id": "Qrd1aX5FeRkN"
    },
    {
      "cell_type": "markdown",
      "source": [
        "The normal distribution is described by the mean and the standard deviation.\n",
        "\n",
        "The normal distribution is often referred to as a 'bell curve' because of it's shape:\n",
        "\n",
        "* The median and mean are equal\n",
        "* It has only one mode\n",
        "* It is symmetric, meaning it decreases the same amount on the left and the right of the centre"
      ],
      "metadata": {
        "id": "fKQHRLl5YUeu"
      },
      "id": "fKQHRLl5YUeu"
    },
    {
      "cell_type": "markdown",
      "source": [
        "We can calculate skewness too using skew() function in python.\n"
      ],
      "metadata": {
        "id": "g9GDWBxhYZk8"
      },
      "id": "g9GDWBxhYZk8"
    },
    {
      "cell_type": "code",
      "source": [
        "# Calculate skewness of 'Volatile Acidity'\n",
        "\n",
        "data['volatile acidity'].skew()\n"
      ],
      "metadata": {
        "id": "1mb1BVSsYdnM",
        "colab": {
          "base_uri": "https://localhost:8080/"
        },
        "outputId": "9176b8bd-d06f-4b7b-f8b0-aba223342abf"
      },
      "id": "1mb1BVSsYdnM",
      "execution_count": 15,
      "outputs": [
        {
          "output_type": "execute_result",
          "data": {
            "text/plain": [
              "np.float64(1.5769795029952025)"
            ]
          },
          "metadata": {},
          "execution_count": 15
        }
      ]
    },
    {
      "cell_type": "markdown",
      "source": [
        "**Observation**\n",
        "\n",
        "We can clearly see that the skewness value is greater than 1, hence it is positively skewed."
      ],
      "metadata": {
        "id": "4kddNbWJYw2m"
      },
      "id": "4kddNbWJYw2m"
    },
    {
      "cell_type": "code",
      "execution_count": 16,
      "metadata": {
        "id": "Wyh0nUaI8QlW",
        "colab": {
          "base_uri": "https://localhost:8080/"
        },
        "outputId": "c7e16b0e-b401-4293-fb14-c6baf013be7a"
      },
      "outputs": [
        {
          "output_type": "execute_result",
          "data": {
            "text/plain": [
              "np.float64(0.27824111882400976)"
            ]
          },
          "metadata": {},
          "execution_count": 16
        }
      ],
      "source": [
        "# Calculate the mean \"Volatile Acidity\" feature\n",
        "\n",
        "data['volatile acidity'].mean()\n"
      ],
      "id": "Wyh0nUaI8QlW"
    },
    {
      "cell_type": "code",
      "execution_count": 17,
      "metadata": {
        "id": "ZArYWEgh8QlX",
        "colab": {
          "base_uri": "https://localhost:8080/"
        },
        "outputId": "b0cca5d4-652d-4ab0-abf9-f805d4420b42"
      },
      "outputs": [
        {
          "output_type": "execute_result",
          "data": {
            "text/plain": [
              "0.26"
            ]
          },
          "metadata": {},
          "execution_count": 17
        }
      ],
      "source": [
        "# Calculate the median \"Volatile Acidity\" feature\n",
        "\n",
        "data['volatile acidity'].median()\n"
      ],
      "id": "ZArYWEgh8QlX"
    },
    {
      "cell_type": "code",
      "execution_count": 18,
      "metadata": {
        "id": "riNO_6-x8QlX",
        "colab": {
          "base_uri": "https://localhost:8080/",
          "height": 410
        },
        "outputId": "eb656059-0cf2-4656-972f-c997cbf29ced"
      },
      "outputs": [
        {
          "output_type": "display_data",
          "data": {
            "text/plain": [
              "<Figure size 900x400 with 1 Axes>"
            ],
            "image/png": "[encoded data removed]"
          },
          "metadata": {}
        }
      ],
      "source": [
        "# Create a histogram of the \"Volatile Acidity\" feature and also show the mean and the median\n",
        "\n",
        "plt.figure(figsize = (9,4))\n",
        "\n",
        "sns.histplot(data = data ,x = 'volatile acidity', color = 'green',\n",
        "             edgecolor = 'linen', alpha = 0.5, bins = 5)\n",
        "\n",
        "plt.title(\"Histogram of Volatile Acidity\")\n",
        "plt.xlabel('Volatile Acidity')\n",
        "plt.ylabel('Density')\n",
        "plt.vlines(data['volatile acidity'].mean(), ymin = 0, ymax = 4000, colors='blue', label='Mean')\n",
        "plt.vlines(data['volatile acidity'].median(), ymin = 0, ymax = 4000, colors='red', label='Median')\n",
        "plt.legend()\n",
        "plt.show()\n"
      ],
      "id": "riNO_6-x8QlX"
    },
    {
      "cell_type": "markdown",
      "source": [
        "**Observations**\n",
        "\n",
        "The mean and the median are close to each other and the difference between them is very small.\n",
        "\n",
        "We can safely choose the mean as the measure of the central tendency here."
      ],
      "metadata": {
        "id": "6dqgxGNSqr0U"
      },
      "id": "6dqgxGNSqr0U"
    },
    {
      "cell_type": "code",
      "source": [
        "# Create a histogram of the \"citric acid\" feature\n",
        "\n",
        "plt.figure(figsize = (9,4))\n",
        "\n",
        "sns.histplot(data = data ,x = 'citric acid', color = 'red',\n",
        "             edgecolor = 'linen', alpha = 0.5, bins = 5)\n",
        "\n",
        "plt.title(\"Histogram of Citric Acidity\")\n",
        "plt.xlabel('Citric Acidity')\n",
        "plt.ylabel('Count')\n",
        "plt.show()\n"
      ],
      "metadata": {
        "id": "crMq9GqBBtSQ",
        "colab": {
          "base_uri": "https://localhost:8080/",
          "height": 410
        },
        "outputId": "930f11a0-0686-45b5-8c8b-39422005d162"
      },
      "id": "crMq9GqBBtSQ",
      "execution_count": 19,
      "outputs": [
        {
          "output_type": "display_data",
          "data": {
            "text/plain": [
              "<Figure size 900x400 with 1 Axes>"
            ],
            "image/png": "[encoded data removed]"
          },
          "metadata": {}
        }
      ]
    },
    {
      "cell_type": "markdown",
      "source": [
        "**Observation**\n",
        "\n",
        "We observe that this histogram is not well distributed, it is skewed a little towards the right."
      ],
      "metadata": {
        "id": "a6CioPXwq-Hw"
      },
      "id": "a6CioPXwq-Hw"
    },
    {
      "cell_type": "code",
      "source": [
        "# Calculate the mean \"Citric Acid\" feature\n",
        "\n",
        "data['citric acid'].mean()\n"
      ],
      "metadata": {
        "id": "6GNcYji6CBBR",
        "colab": {
          "base_uri": "https://localhost:8080/"
        },
        "outputId": "fc92b601-5605-454b-cf80-aff676dbd0d0"
      },
      "id": "6GNcYji6CBBR",
      "execution_count": 20,
      "outputs": [
        {
          "output_type": "execute_result",
          "data": {
            "text/plain": [
              "np.float64(0.33419150673744386)"
            ]
          },
          "metadata": {},
          "execution_count": 20
        }
      ]
    },
    {
      "cell_type": "code",
      "source": [
        "# Calculate the median \"Citric Acid\" feature\n",
        "\n",
        "data['citric acid'].median()\n"
      ],
      "metadata": {
        "id": "7vRkaLuHCIdg",
        "colab": {
          "base_uri": "https://localhost:8080/"
        },
        "outputId": "2b4995fc-7292-4a12-f343-f4fbddf53fd0"
      },
      "id": "7vRkaLuHCIdg",
      "execution_count": 21,
      "outputs": [
        {
          "output_type": "execute_result",
          "data": {
            "text/plain": [
              "0.32"
            ]
          },
          "metadata": {},
          "execution_count": 21
        }
      ]
    },
    {
      "cell_type": "code",
      "source": [
        "# Create a histogram of the \"Citric Acid\" feature and also show the mean and the median\n",
        "\n",
        "plt.figure(figsize = (9,4))\n",
        "\n",
        "sns.histplot(data = data ,x = 'citric acid', color = 'red',\n",
        "             edgecolor = 'linen', alpha = 0.5, bins = 5)\n",
        "\n",
        "plt.title(\"Histogram of Citric Acidity\")\n",
        "plt.xlabel('Citric Acidity')\n",
        "plt.ylabel('Count')\n",
        "plt.vlines(data['citric acid'].mean(), ymin = 0, ymax = 4000, colors='blue', label='Mean')\n",
        "plt.vlines(data['citric acid'].median(), ymin = 0, ymax = 4000, colors='red', label='Median')\n",
        "plt.legend()\n",
        "plt.show()\n"
      ],
      "metadata": {
        "id": "ANZDfoVJCPcc",
        "colab": {
          "base_uri": "https://localhost:8080/",
          "height": 410
        },
        "outputId": "34c3d2af-7191-4a5e-b2ea-3f3b476f969e"
      },
      "id": "ANZDfoVJCPcc",
      "execution_count": 22,
      "outputs": [
        {
          "output_type": "display_data",
          "data": {
            "text/plain": [
              "<Figure size 900x400 with 1 Axes>"
            ],
            "image/png": "[encoded data removed]"
          },
          "metadata": {}
        }
      ]
    },
    {
      "cell_type": "markdown",
      "source": [
        "**Observation**\n",
        "\n",
        "The mean and the median are close to each other and the difference between them is very small.\n",
        "\n",
        "We can safely choose the mean as the measure of the central tendency here."
      ],
      "metadata": {
        "id": "3bBbywkSrDHn"
      },
      "id": "3bBbywkSrDHn"
    },
    {
      "cell_type": "code",
      "source": [
        "# Calculate distplot using 'Citric Acidity' feature\n",
        "\n",
        "plt.figure(figsize = (11,6))\n",
        "\n",
        "sns.distplot(data['citric acid'], color = 'blue')\n",
        "\n",
        "plt.title(\"Distplot of Citric Acid\")\n",
        "plt.xlabel('Citric Acid')\n",
        "plt.ylabel('Density')\n",
        "plt.show()\n"
      ],
      "metadata": {
        "id": "FmQP7KcQ2Vxz",
        "colab": {
          "base_uri": "https://localhost:8080/",
          "height": 564
        },
        "outputId": "6d3abeaf-9251-4c49-fd08-05da99477985"
      },
      "id": "FmQP7KcQ2Vxz",
      "execution_count": 23,
      "outputs": [
        {
          "output_type": "display_data",
          "data": {
            "text/plain": [
              "<Figure size 1100x600 with 1 Axes>"
            ],
            "image/png": "[encoded data removed]"
          },
          "metadata": {}
        }
      ]
    },
    {
      "cell_type": "markdown",
      "source": [
        "Same procedure we can follow for other numerical columns to get the mean, median (parameters of central tendency)\n"
      ],
      "metadata": {
        "id": "pGCgQBgz3JT3"
      },
      "id": "pGCgQBgz3JT3"
    },
    {
      "cell_type": "code",
      "source": [
        "quality = pd.DataFrame(data['quality'].value_counts().sort_index())"
      ],
      "metadata": {
        "id": "yUfzHRuA9SkS"
      },
      "id": "yUfzHRuA9SkS",
      "execution_count": 38,
      "outputs": []
    },
    {
      "cell_type": "code",
      "source": [
        "quality.index"
      ],
      "metadata": {
        "colab": {
          "base_uri": "https://localhost:8080/"
        },
        "id": "4xGfGAWT9xg9",
        "outputId": "c5250e06-df05-4f10-99c5-a0411312315a"
      },
      "id": "4xGfGAWT9xg9",
      "execution_count": 25,
      "outputs": [
        {
          "output_type": "execute_result",
          "data": {
            "text/plain": [
              "Index([6, 5, 7, 8, 4, 3, 9], dtype='int64', name='quality')"
            ]
          },
          "metadata": {},
          "execution_count": 25
        }
      ]
    },
    {
      "cell_type": "code",
      "execution_count": 39,
      "metadata": {
        "id": "06S-xD2n8QlX",
        "colab": {
          "base_uri": "https://localhost:8080/",
          "height": 410
        },
        "outputId": "1467621e-d6e4-44eb-92dc-02d6308da031"
      },
      "outputs": [
        {
          "output_type": "display_data",
          "data": {
            "text/plain": [
              "<Figure size 900x400 with 1 Axes>"
            ],
            "image/png": "[encoded data removed]"
          },
          "metadata": {}
        }
      ],
      "source": [
        "plt.figure(figsize=(9, 4))\n",
        "\n",
        "sns.barplot(x=quality.index, y=quality['count'])\n",
        "\n",
        "plt.title(\"Bar Plot of Quality\")\n",
        "plt.xlabel('Quality')\n",
        "plt.ylabel('Count')\n",
        "plt.show()"
      ],
      "id": "06S-xD2n8QlX"
    },
    {
      "cell_type": "markdown",
      "source": [
        "**Observation**\n",
        "\n",
        "It is quite clear from the count plot that the 6 is the highest count of quality , whereas 9 is negligible."
      ],
      "metadata": {
        "id": "7QySS8tCrKxP"
      },
      "id": "7QySS8tCrKxP"
    },
    {
      "cell_type": "code",
      "execution_count": 27,
      "metadata": {
        "id": "isnfb3008QlX",
        "colab": {
          "base_uri": "https://localhost:8080/",
          "height": 335
        },
        "outputId": "630ebe44-c9f5-40f0-ae13-d0f26d55c734"
      },
      "outputs": [
        {
          "output_type": "execute_result",
          "data": {
            "text/plain": [
              "quality\n",
              "6    2198\n",
              "5    1457\n",
              "7     880\n",
              "8     175\n",
              "4     163\n",
              "3      20\n",
              "9       5\n",
              "Name: count, dtype: int64"
            ],
            "text/html": [
              "<div>\n",
              "<style scoped>\n",
              "    .dataframe tbody tr th:only-of-type {\n",
              "        vertical-align: middle;\n",
              "    }\n",
              "\n",
              "    .dataframe tbody tr th {\n",
              "        vertical-align: top;\n",
              "    }\n",
              "\n",
              "    .dataframe thead th {\n",
              "        text-align: right;\n",
              "    }\n",
              "</style>\n",
              "<table border=\"1\" class=\"dataframe\">\n",
              "  <thead>\n",
              "    <tr style=\"text-align: right;\">\n",
              "      <th></th>\n",
              "      <th>count</th>\n",
              "    </tr>\n",
              "    <tr>\n",
              "      <th>quality</th>\n",
              "      <th></th>\n",
              "    </tr>\n",
              "  </thead>\n",
              "  <tbody>\n",
              "    <tr>\n",
              "      <th>6</th>\n",
              "      <td>2198</td>\n",
              "    </tr>\n",
              "    <tr>\n",
              "      <th>5</th>\n",
              "      <td>1457</td>\n",
              "    </tr>\n",
              "    <tr>\n",
              "      <th>7</th>\n",
              "      <td>880</td>\n",
              "    </tr>\n",
              "    <tr>\n",
              "      <th>8</th>\n",
              "      <td>175</td>\n",
              "    </tr>\n",
              "    <tr>\n",
              "      <th>4</th>\n",
              "      <td>163</td>\n",
              "    </tr>\n",
              "    <tr>\n",
              "      <th>3</th>\n",
              "      <td>20</td>\n",
              "    </tr>\n",
              "    <tr>\n",
              "      <th>9</th>\n",
              "      <td>5</td>\n",
              "    </tr>\n",
              "  </tbody>\n",
              "</table>\n",
              "</div><br><label><b>dtype:</b> int64</label>"
            ]
          },
          "metadata": {},
          "execution_count": 27
        }
      ],
      "source": [
        "# Count the number of occurences of different categories of the \"Quality\" feature\n",
        "\n",
        "data['quality'].value_counts()\n"
      ],
      "id": "isnfb3008QlX"
    },
    {
      "cell_type": "code",
      "execution_count": 28,
      "metadata": {
        "id": "aXqKDasJ8QlY",
        "colab": {
          "base_uri": "https://localhost:8080/"
        },
        "outputId": "9c68f15b-2ab1-4b5b-9086-67d83099163b"
      },
      "outputs": [
        {
          "output_type": "execute_result",
          "data": {
            "text/plain": [
              "np.int64(6)"
            ]
          },
          "metadata": {},
          "execution_count": 28
        }
      ],
      "source": [
        "# Calculate the mode of the \"quality\" feature\n",
        "\n",
        "data['quality'].value_counts().index[0]\n"
      ],
      "id": "aXqKDasJ8QlY"
    },
    {
      "cell_type": "markdown",
      "source": [
        "# **Observations from Task 2**\n",
        "\n",
        "We saw the distributions of the various features in the data set using appropriate plots\n",
        "\n",
        "We calculated central tendency measures like mean, median and mode for the various features\n",
        "\n",
        "The mean and the median for all the above features were similar, so we can choose the mean in these cases\n",
        "\n",
        "The mode of the \"Quality\" feature can be chosen as a representative value"
      ],
      "metadata": {
        "id": "GjgDaHWv38zY"
      },
      "id": "GjgDaHWv38zY"
    },
    {
      "cell_type": "markdown",
      "source": [
        "# **Task 3** - Create a new Pandas Series that contains the details of the acid types for a quality\n",
        "\n",
        "We will now create a Pandas Series that contains the representative values for each of the features"
      ],
      "metadata": {
        "id": "Ew-3c07M4GCW"
      },
      "id": "Ew-3c07M4GCW"
    },
    {
      "cell_type": "code",
      "execution_count": 29,
      "metadata": {
        "id": "NagKtHe98QlY"
      },
      "outputs": [],
      "source": [
        "# Create a new Pandas Series called \"rep_acid\" that contains the details of the representative quality for the different types of acids\n",
        "\n",
        "rep_acid = pd.DataFrame(index = ['fixed acidity','volatile acidity','citric acid','quality'],\n",
        "                     data = [data['fixed acidity'].mean(),data['volatile acidity'].mean(),\n",
        "                             data['citric acid'].mean(),data['quality'].value_counts().index[0]])"
      ],
      "id": "NagKtHe98QlY"
    },
    {
      "cell_type": "code",
      "execution_count": 40,
      "metadata": {
        "id": "L0brocTz8QlY",
        "colab": {
          "base_uri": "https://localhost:8080/",
          "height": 175
        },
        "outputId": "1e8fb49b-608d-4d4e-85d1-488a7d2ad815"
      },
      "outputs": [
        {
          "output_type": "execute_result",
          "data": {
            "text/plain": [
              "                         0\n",
              "fixed acidity     6.854788\n",
              "volatile acidity  0.278241\n",
              "citric acid       0.334192\n",
              "quality           6.000000"
            ],
            "text/html": [
              "\n",
              "  <div id=\"df-c4b1eda7-5fd0-4e66-9b0a-a6d8b5e00444\" class=\"colab-df-container\">\n",
              "    <div>\n",
              "<style scoped>\n",
              "    .dataframe tbody tr th:only-of-type {\n",
              "        vertical-align: middle;\n",
              "    }\n",
              "\n",
              "    .dataframe tbody tr th {\n",
              "        vertical-align: top;\n",
              "    }\n",
              "\n",
              "    .dataframe thead th {\n",
              "        text-align: right;\n",
              "    }\n",
              "</style>\n",
              "<table border=\"1\" class=\"dataframe\">\n",
              "  <thead>\n",
              "    <tr style=\"text-align: right;\">\n",
              "      <th></th>\n",
              "      <th>0</th>\n",
              "    </tr>\n",
              "  </thead>\n",
              "  <tbody>\n",
              "    <tr>\n",
              "      <th>fixed acidity</th>\n",
              "      <td>6.854788</td>\n",
              "    </tr>\n",
              "    <tr>\n",
              "      <th>volatile acidity</th>\n",
              "      <td>0.278241</td>\n",
              "    </tr>\n",
              "    <tr>\n",
              "      <th>citric acid</th>\n",
              "      <td>0.334192</td>\n",
              "    </tr>\n",
              "    <tr>\n",
              "      <th>quality</th>\n",
              "      <td>6.000000</td>\n",
              "    </tr>\n",
              "  </tbody>\n",
              "</table>\n",
              "</div>\n",
              "    <div class=\"colab-df-buttons\">\n",
              "\n",
              "  <div class=\"colab-df-container\">\n",
              "    <button class=\"colab-df-convert\" onclick=\"convertToInteractive('df-c4b1eda7-5fd0-4e66-9b0a-a6d8b5e00444')\"\n",
              "            title=\"Convert this dataframe to an interactive table.\"\n",
              "            style=\"display:none;\">\n",
              "\n",
              "  <svg xmlns=\"http://www.w3.org/2000/svg\" height=\"24px\" viewBox=\"0 -960 960 960\">\n",
              "    <path d=\"M120-120v-720h720v720H120Zm60-500h600v-160H180v160Zm220 220h160v-160H400v160Zm0 220h160v-160H400v160ZM180-400h160v-160H180v160Zm440 0h160v-160H620v160ZM180-180h160v-160H180v160Zm440 0h160v-160H620v160Z\"/>\n",
              "  </svg>\n",
              "    </button>\n",
              "\n",
              "  <style>\n",
              "    .colab-df-container {\n",
              "      display:flex;\n",
              "      gap: 12px;\n",
              "    }\n",
              "\n",
              "    .colab-df-convert {\n",
              "      background-color: #E8F0FE;\n",
              "      border: none;\n",
              "      border-radius: 50%;\n",
              "      cursor: pointer;\n",
              "      display: none;\n",
              "      fill: #1967D2;\n",
              "      height: 32px;\n",
              "      padding: 0 0 0 0;\n",
              "      width: 32px;\n",
              "    }\n",
              "\n",
              "    .colab-df-convert:hover {\n",
              "      background-color: #E2EBFA;\n",
              "      box-shadow: 0px 1px 2px rgba(60, 64, 67, 0.3), 0px 1px 3px 1px rgba(60, 64, 67, 0.15);\n",
              "      fill: #174EA6;\n",
              "    }\n",
              "\n",
              "    .colab-df-buttons div {\n",
              "      margin-bottom: 4px;\n",
              "    }\n",
              "\n",
              "    [theme=dark] .colab-df-convert {\n",
              "      background-color: #3B4455;\n",
              "      fill: #D2E3FC;\n",
              "    }\n",
              "\n",
              "    [theme=dark] .colab-df-convert:hover {\n",
              "      background-color: #434B5C;\n",
              "      box-shadow: 0px 1px 3px 1px rgba(0, 0, 0, 0.15);\n",
              "      filter: drop-shadow(0px 1px 2px rgba(0, 0, 0, 0.3));\n",
              "      fill: #FFFFFF;\n",
              "    }\n",
              "  </style>\n",
              "\n",
              "    <script>\n",
              "      const buttonEl =\n",
              "        document.querySelector('#df-c4b1eda7-5fd0-4e66-9b0a-a6d8b5e00444 button.colab-df-convert');\n",
              "      buttonEl.style.display =\n",
              "        google.colab.kernel.accessAllowed ? 'block' : 'none';\n",
              "\n",
              "      async function convertToInteractive(key) {\n",
              "        const element = document.querySelector('#df-c4b1eda7-5fd0-4e66-9b0a-a6d8b5e00444');\n",
              "        const dataTable =\n",
              "          await google.colab.kernel.invokeFunction('convertToInteractive',\n",
              "                                                    [key], {});\n",
              "        if (!dataTable) return;\n",
              "\n",
              "        const docLinkHtml = 'Like what you see? Visit the ' +\n",
              "          '<a target=\"_blank\" href=https://colab.research.google.com/notebooks/data_table.ipynb>data table notebook</a>'\n",
              "          + ' to learn more about interactive tables.';\n",
              "        element.innerHTML = '';\n",
              "        dataTable['output_type'] = 'display_data';\n",
              "        await google.colab.output.renderOutput(dataTable, element);\n",
              "        const docLink = document.createElement('div');\n",
              "        docLink.innerHTML = docLinkHtml;\n",
              "        element.appendChild(docLink);\n",
              "      }\n",
              "    </script>\n",
              "  </div>\n",
              "\n",
              "\n",
              "    <div id=\"df-ec02359b-2f7a-4102-a6ea-58e5be8ec7c5\">\n",
              "      <button class=\"colab-df-quickchart\" onclick=\"quickchart('df-ec02359b-2f7a-4102-a6ea-58e5be8ec7c5')\"\n",
              "                title=\"Suggest charts\"\n",
              "                style=\"display:none;\">\n",
              "\n",
              "<svg xmlns=\"http://www.w3.org/2000/svg\" height=\"24px\"viewBox=\"0 0 24 24\"\n",
              "     width=\"24px\">\n",
              "    <g>\n",
              "        <path d=\"M19 3H5c-1.1 0-2 .9-2 2v14c0 1.1.9 2 2 2h14c1.1 0 2-.9 2-2V5c0-1.1-.9-2-2-2zM9 17H7v-7h2v7zm4 0h-2V7h2v10zm4 0h-2v-4h2v4z\"/>\n",
              "    </g>\n",
              "</svg>\n",
              "      </button>\n",
              "\n",
              "<style>\n",
              "  .colab-df-quickchart {\n",
              "      --bg-color: #E8F0FE;\n",
              "      --fill-color: #1967D2;\n",
              "      --hover-bg-color: #E2EBFA;\n",
              "      --hover-fill-color: #174EA6;\n",
              "      --disabled-fill-color: #AAA;\n",
              "      --disabled-bg-color: #DDD;\n",
              "  }\n",
              "\n",
              "  [theme=dark] .colab-df-quickchart {\n",
              "      --bg-color: #3B4455;\n",
              "      --fill-color: #D2E3FC;\n",
              "      --hover-bg-color: #434B5C;\n",
              "      --hover-fill-color: #FFFFFF;\n",
              "      --disabled-bg-color: #3B4455;\n",
              "      --disabled-fill-color: #666;\n",
              "  }\n",
              "\n",
              "  .colab-df-quickchart {\n",
              "    background-color: var(--bg-color);\n",
              "    border: none;\n",
              "    border-radius: 50%;\n",
              "    cursor: pointer;\n",
              "    display: none;\n",
              "    fill: var(--fill-color);\n",
              "    height: 32px;\n",
              "    padding: 0;\n",
              "    width: 32px;\n",
              "  }\n",
              "\n",
              "  .colab-df-quickchart:hover {\n",
              "    background-color: var(--hover-bg-color);\n",
              "    box-shadow: 0 1px 2px rgba(60, 64, 67, 0.3), 0 1px 3px 1px rgba(60, 64, 67, 0.15);\n",
              "    fill: var(--button-hover-fill-color);\n",
              "  }\n",
              "\n",
              "  .colab-df-quickchart-complete:disabled,\n",
              "  .colab-df-quickchart-complete:disabled:hover {\n",
              "    background-color: var(--disabled-bg-color);\n",
              "    fill: var(--disabled-fill-color);\n",
              "    box-shadow: none;\n",
              "  }\n",
              "\n",
              "  .colab-df-spinner {\n",
              "    border: 2px solid var(--fill-color);\n",
              "    border-color: transparent;\n",
              "    border-bottom-color: var(--fill-color);\n",
              "    animation:\n",
              "      spin 1s steps(1) infinite;\n",
              "  }\n",
              "\n",
              "  @keyframes spin {\n",
              "    0% {\n",
              "      border-color: transparent;\n",
              "      border-bottom-color: var(--fill-color);\n",
              "      border-left-color: var(--fill-color);\n",
              "    }\n",
              "    20% {\n",
              "      border-color: transparent;\n",
              "      border-left-color: var(--fill-color);\n",
              "      border-top-color: var(--fill-color);\n",
              "    }\n",
              "    30% {\n",
              "      border-color: transparent;\n",
              "      border-left-color: var(--fill-color);\n",
              "      border-top-color: var(--fill-color);\n",
              "      border-right-color: var(--fill-color);\n",
              "    }\n",
              "    40% {\n",
              "      border-color: transparent;\n",
              "      border-right-color: var(--fill-color);\n",
              "      border-top-color: var(--fill-color);\n",
              "    }\n",
              "    60% {\n",
              "      border-color: transparent;\n",
              "      border-right-color: var(--fill-color);\n",
              "    }\n",
              "    80% {\n",
              "      border-color: transparent;\n",
              "      border-right-color: var(--fill-color);\n",
              "      border-bottom-color: var(--fill-color);\n",
              "    }\n",
              "    90% {\n",
              "      border-color: transparent;\n",
              "      border-bottom-color: var(--fill-color);\n",
              "    }\n",
              "  }\n",
              "</style>\n",
              "\n",
              "      <script>\n",
              "        async function quickchart(key) {\n",
              "          const quickchartButtonEl =\n",
              "            document.querySelector('#' + key + ' button');\n",
              "          quickchartButtonEl.disabled = true;  // To prevent multiple clicks.\n",
              "          quickchartButtonEl.classList.add('colab-df-spinner');\n",
              "          try {\n",
              "            const charts = await google.colab.kernel.invokeFunction(\n",
              "                'suggestCharts', [key], {});\n",
              "          } catch (error) {\n",
              "            console.error('Error during call to suggestCharts:', error);\n",
              "          }\n",
              "          quickchartButtonEl.classList.remove('colab-df-spinner');\n",
              "          quickchartButtonEl.classList.add('colab-df-quickchart-complete');\n",
              "        }\n",
              "        (() => {\n",
              "          let quickchartButtonEl =\n",
              "            document.querySelector('#df-ec02359b-2f7a-4102-a6ea-58e5be8ec7c5 button');\n",
              "          quickchartButtonEl.style.display =\n",
              "            google.colab.kernel.accessAllowed ? 'block' : 'none';\n",
              "        })();\n",
              "      </script>\n",
              "    </div>\n",
              "\n",
              "  <div id=\"id_bacf1344-5a21-4331-b234-6889d9f2ee17\">\n",
              "    <style>\n",
              "      .colab-df-generate {\n",
              "        background-color: #E8F0FE;\n",
              "        border: none;\n",
              "        border-radius: 50%;\n",
              "        cursor: pointer;\n",
              "        display: none;\n",
              "        fill: #1967D2;\n",
              "        height: 32px;\n",
              "        padding: 0 0 0 0;\n",
              "        width: 32px;\n",
              "      }\n",
              "\n",
              "      .colab-df-generate:hover {\n",
              "        background-color: #E2EBFA;\n",
              "        box-shadow: 0px 1px 2px rgba(60, 64, 67, 0.3), 0px 1px 3px 1px rgba(60, 64, 67, 0.15);\n",
              "        fill: #174EA6;\n",
              "      }\n",
              "\n",
              "      [theme=dark] .colab-df-generate {\n",
              "        background-color: #3B4455;\n",
              "        fill: #D2E3FC;\n",
              "      }\n",
              "\n",
              "      [theme=dark] .colab-df-generate:hover {\n",
              "        background-color: #434B5C;\n",
              "        box-shadow: 0px 1px 3px 1px rgba(0, 0, 0, 0.15);\n",
              "        filter: drop-shadow(0px 1px 2px rgba(0, 0, 0, 0.3));\n",
              "        fill: #FFFFFF;\n",
              "      }\n",
              "    </style>\n",
              "    <button class=\"colab-df-generate\" onclick=\"generateWithVariable('rep_acid')\"\n",
              "            title=\"Generate code using this dataframe.\"\n",
              "            style=\"display:none;\">\n",
              "\n",
              "  <svg xmlns=\"http://www.w3.org/2000/svg\" height=\"24px\"viewBox=\"0 0 24 24\"\n",
              "       width=\"24px\">\n",
              "    <path d=\"M7,19H8.4L18.45,9,17,7.55,7,17.6ZM5,21V16.75L18.45,3.32a2,2,0,0,1,2.83,0l1.4,1.43a1.91,1.91,0,0,1,.58,1.4,1.91,1.91,0,0,1-.58,1.4L9.25,21ZM18.45,9,17,7.55Zm-12,3A5.31,5.31,0,0,0,4.9,8.1,5.31,5.31,0,0,0,1,6.5,5.31,5.31,0,0,0,4.9,4.9,5.31,5.31,0,0,0,6.5,1,5.31,5.31,0,0,0,8.1,4.9,5.31,5.31,0,0,0,12,6.5,5.46,5.46,0,0,0,6.5,12Z\"/>\n",
              "  </svg>\n",
              "    </button>\n",
              "    <script>\n",
              "      (() => {\n",
              "      const buttonEl =\n",
              "        document.querySelector('#id_bacf1344-5a21-4331-b234-6889d9f2ee17 button.colab-df-generate');\n",
              "      buttonEl.style.display =\n",
              "        google.colab.kernel.accessAllowed ? 'block' : 'none';\n",
              "\n",
              "      buttonEl.onclick = () => {\n",
              "        google.colab.notebook.generateWithVariable('rep_acid');\n",
              "      }\n",
              "      })();\n",
              "    </script>\n",
              "  </div>\n",
              "\n",
              "    </div>\n",
              "  </div>\n"
            ],
            "application/vnd.google.colaboratory.intrinsic+json": {
              "type": "dataframe",
              "variable_name": "rep_acid",
              "summary": "{\n  \"name\": \"rep_acid\",\n  \"rows\": 4,\n  \"fields\": [\n    {\n      \"column\": 0,\n      \"properties\": {\n        \"dtype\": \"number\",\n        \"std\": 3.5513241873493984,\n        \"min\": 0.27824111882400976,\n        \"max\": 6.854787668436097,\n        \"num_unique_values\": 4,\n        \"samples\": [\n          0.27824111882400976,\n          6.0,\n          6.854787668436097\n        ],\n        \"semantic_type\": \"\",\n        \"description\": \"\"\n      }\n    }\n  ]\n}"
            }
          },
          "metadata": {},
          "execution_count": 40
        }
      ],
      "source": [
        "# Print the \"rep_acid\" series\n",
        "\n",
        "rep_acid"
      ],
      "id": "L0brocTz8QlY"
    },
    {
      "cell_type": "markdown",
      "source": [
        "# **Observations from Task 3**\n",
        "\n",
        "1. The representative acid for the quality is as follows:\n",
        "\n",
        "2. The mean value of the fixed acidity would be 6.854\n",
        "\n",
        "3. The mean value of the volatile acidity would be 0.2782\n",
        "\n",
        "4. The mean value of citric acid would be 0.3341\n",
        "\n",
        "5. The quality would be 6"
      ],
      "metadata": {
        "id": "lt6Keo0C4OFj"
      },
      "id": "lt6Keo0C4OFj"
    },
    {
      "cell_type": "markdown",
      "source": [
        "## **Final Conclusions**\n",
        "\n",
        "* From the given data, we can use simple visualisations to get a sense of how data are distributed.\n",
        "\n",
        "* We can use various measures of central tendency such as mean, median and mode to represent a group of observations.\n",
        "\n",
        "* The type of central tendency measure to use depends on the type and the distribution of the data"
      ],
      "metadata": {
        "id": "oePhOJXbrS2m"
      },
      "id": "oePhOJXbrS2m"
    }
  ],
  "metadata": {
    "kernelspec": {
      "display_name": "Python 3",
      "language": "python",
      "name": "python3"
    },
    "language_info": {
      "codemirror_mode": {
        "name": "ipython",
        "version": 3
      },
      "file_extension": ".py",
      "mimetype": "text/x-python",
      "name": "python",
      "nbconvert_exporter": "python",
      "pygments_lexer": "ipython3",
      "version": "3.8.5"
    },
    "colab": {
      "provenance": []
    }
  },
  "nbformat": 4,
  "nbformat_minor": 5
}